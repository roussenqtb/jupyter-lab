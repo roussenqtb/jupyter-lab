{
 "cells": [
  {
   "cell_type": "code",
   "execution_count": 1,
   "id": "0782347b-fc38-459e-8f54-09bfcd1a9b67",
   "metadata": {},
   "outputs": [],
   "source": [
    "#pip install minio"
   ]
  },
  {
   "cell_type": "code",
   "execution_count": 2,
   "id": "a864fa33-1975-4947-b5e9-38b79a37a7d0",
   "metadata": {},
   "outputs": [],
   "source": [
    "import os\n",
    "from minio import Minio\n",
    "\n",
    "# Configuração do cliente MinIO\n",
    "minio_endpoint = \"minio:9000\"\n",
    "minio_access_key = \"minio\"\n",
    "minio_secret_key = \"minio123\""
   ]
  },
  {
   "cell_type": "code",
   "execution_count": 3,
   "id": "e508b482-3142-455e-9dfd-60b4f5e80c2f",
   "metadata": {},
   "outputs": [],
   "source": [
    "bucket_name = \"bronze\""
   ]
  },
  {
   "cell_type": "code",
   "execution_count": 4,
   "id": "807c3a1d-d482-41be-a4db-88efdbf3e8cc",
   "metadata": {},
   "outputs": [],
   "source": [
    "# Conteúdo do arquivo\n",
    "conteudo = \"Este é o conteúdo do meu arquivo de texto.\"\n",
    "\n",
    "# Caminho local para o arquivo\n",
    "caminho_local = \"meuarquivo.txt\"\n",
    "\n",
    "# Criação do arquivo local\n",
    "with open(caminho_local, \"w\") as arquivo:\n",
    "    arquivo.write(conteudo)\n"
   ]
  },
  {
   "cell_type": "code",
   "execution_count": 5,
   "id": "6b114d1a-fb1f-45dc-bbbe-24375624544f",
   "metadata": {},
   "outputs": [
    {
     "name": "stdout",
     "output_type": "stream",
     "text": [
      "minio:9000\n",
      "minio\n",
      "minio123\n"
     ]
    }
   ],
   "source": [
    "# Inicializa o cliente MinIO\n",
    "print(minio_endpoint)\n",
    "print(minio_access_key)\n",
    "print(minio_secret_key)\n",
    "\n",
    "minio_client = Minio(endpoint=minio_endpoint, access_key=minio_access_key, secret_key=minio_secret_key, secure=False)"
   ]
  },
  {
   "cell_type": "code",
   "execution_count": 6,
   "id": "54fd149c-2a83-4a28-b5a6-b63e13ad9d35",
   "metadata": {},
   "outputs": [
    {
     "name": "stdout",
     "output_type": "stream",
     "text": [
      "Arquivo meuarquivo.txt enviado com sucesso para o MinIO!\n"
     ]
    }
   ],
   "source": [
    "# Envia o arquivo para o MinIO\n",
    "try:\n",
    "    print(f\"Arquivo {caminho_local} enviado com sucesso para o MinIO!\")\n",
    "    \n",
    "    minio_client.fput_object(bucket_name, \"meuarquivo.txt\", caminho_local)\n",
    "    \n",
    "except Exception as e:\n",
    "    print(f\"Erro ao enviar o arquivo: {e}\")"
   ]
  }
 ],
 "metadata": {
  "kernelspec": {
   "display_name": "Python 3 (ipykernel)",
   "language": "python",
   "name": "python3"
  },
  "language_info": {
   "codemirror_mode": {
    "name": "ipython",
    "version": 3
   },
   "file_extension": ".py",
   "mimetype": "text/x-python",
   "name": "python",
   "nbconvert_exporter": "python",
   "pygments_lexer": "ipython3",
   "version": "3.11.6"
  }
 },
 "nbformat": 4,
 "nbformat_minor": 5
}
